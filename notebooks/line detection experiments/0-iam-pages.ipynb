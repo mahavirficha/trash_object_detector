{
 "cells": [
  {
   "cell_type": "code",
   "execution_count": 11,
   "metadata": {},
   "outputs": [],
   "source": [
    "from pathlib import Path\n",
    "DATA_DIRNAME = Path('../../data/raw/iam/iamdb').resolve()"
   ]
  },
  {
   "cell_type": "code",
   "execution_count": 12,
   "metadata": {},
   "outputs": [],
   "source": [
    "import xml.etree.ElementTree as ElementTree\n",
    "\n",
    "DOWNSAMPLE_FACTOR = 2\n",
    "\n",
    "def get_line_region(line, downsample_factor=DOWNSAMPLE_FACTOR):\n",
    "    \"\"\"\n",
    "    line (xml element): has x, y, width, and height attributes\n",
    "    downsample_factor (int): if images were downsampled, the regions must be, too\n",
    "    \"\"\"\n",
    "    x1s = [int(el.attrib['x']) for el in line.findall('word/cmp')]\n",
    "    y1s = [int(el.attrib['y']) for el in line.findall('word/cmp')]\n",
    "    x2s = [int(el.attrib['x']) + int(el.attrib['width']) for el in line.findall('word/cmp')]\n",
    "    y2s = [int(el.attrib['y']) + int(el.attrib['height']) for el in line.findall('word/cmp')]\n",
    "    x1, y1, x2, y2 = min(x1s), min(y1s), max(x2s), max(y2s)\n",
    "    return {\n",
    "        'x1': x1 // DOWNSAMPLE_FACTOR,\n",
    "        'y1': y1 // DOWNSAMPLE_FACTOR,\n",
    "        'x2': x2 // DOWNSAMPLE_FACTOR,\n",
    "        'y2': y2 // DOWNSAMPLE_FACTOR\n",
    "    }\n",
    "\n",
    "def get_regions_from_xml(filename):\n",
    "    root = ElementTree.parse(filename).getroot()\n",
    "    lines = root.findall('handwritten-part/line')\n",
    "    regions = list(map(get_line_region, lines))\n",
    "    return regions\n",
    "\n",
    "filenames = (DATA_DIRNAME / 'xml').glob('*.xml')\n",
    "regions_by_name = {\n",
    "    filename.stem: get_regions_from_xml(filename)\n",
    "    for filename in filenames\n",
    "}"
   ]
  },
  {
   "cell_type": "code",
   "execution_count": 221,
   "metadata": {},
   "outputs": [],
   "source": [
    "import xml.etree.ElementTree as ElementTree\n",
    "\n",
    "DOWNSAMPLE_FACTOR = 2\n",
    "\n",
    "def get_lines_from_xml(filename):\n",
    "    root = ElementTree.parse(filename).getroot()\n",
    "    contours = root.findall('handwritten-part/line/lower-contour') + root.findall('handwritten-part/line/upper-contour')\n",
    "    lines = []\n",
    "    for contour in contours:\n",
    "        points = contour.findall('point')\n",
    "        lines.append({\n",
    "            'x1': int(points[0].attrib['x']) // DOWNSAMPLE_FACTOR,\n",
    "            'y1': int(points[0].attrib['y']) // DOWNSAMPLE_FACTOR,\n",
    "            'x2': int(points[1].attrib['x']) // DOWNSAMPLE_FACTOR,\n",
    "            'y2': int(points[1].attrib['y']) // DOWNSAMPLE_FACTOR,\n",
    "        })\n",
    "    lines = [dict(y) for y in set(tuple(x.items()) for x in lines)]\n",
    "    return lines\n",
    "\n",
    "filenames = (DATA_DIRNAME / 'xml').glob('*.xml')\n",
    "lines_by_name = {\n",
    "    filename.stem: get_lines_from_xml(filename)\n",
    "    for filename in filenames\n",
    "}"
   ]
  },
  {
   "cell_type": "code",
   "execution_count": 239,
   "metadata": {},
   "outputs": [],
   "source": [
    "import xml.etree.ElementTree as ElementTree\n",
    "\n",
    "DOWNSAMPLE_FACTOR = 2\n",
    "\n",
    "def get_baselines_from_xml(filename):\n",
    "    root = ElementTree.parse(filename).getroot()\n",
    "    lines = root.findall('handwritten-part/line')\n",
    "    return [\n",
    "       {\n",
    "           'y1': int(line.attrib['lby']) // DOWNSAMPLE_FACTOR,\n",
    "           'y2': int(line.attrib['uby']) // DOWNSAMPLE_FACTOR\n",
    "       }\n",
    "       for line in lines\n",
    "    ]\n",
    "\n",
    "filenames = (DATA_DIRNAME / 'xml').glob('*.xml')\n",
    "baselines_by_name = {\n",
    "    filename.stem: get_baselines_from_xml(filename)\n",
    "    for filename in filenames\n",
    "}"
   ]
  },
  {
   "cell_type": "code",
   "execution_count": 240,
   "metadata": {},
   "outputs": [
    {
     "name": "stdout",
     "output_type": "stream",
     "text": [
      "13 24 13\n"
     ]
    }
   ],
   "source": [
    "max_num_regions_by_name = max(len(v) for v in regions_by_name.values())\n",
    "max_num_lines_by_name = max(len(v) for v in lines_by_name.values())\n",
    "max_num_baselines_by_name = max(len(v) for v in baselines_by_name.values())\n",
    "\n",
    "print(max_num_regions_by_name, max_num_lines_by_name, max_num_baselines_by_name)"
   ]
  },
  {
   "cell_type": "code",
   "execution_count": 3,
   "metadata": {},
   "outputs": [],
   "source": [
    "import cv2\n",
    "import numpy as np\n",
    "import matplotlib.pyplot as plt\n",
    "from matplotlib import cm\n",
    "%matplotlib inline"
   ]
  },
  {
   "cell_type": "code",
   "execution_count": 14,
   "metadata": {},
   "outputs": [
    {
     "name": "stdout",
     "output_type": "stream",
     "text": [
      "Max dims are 620 width and 578 height\n"
     ]
    }
   ],
   "source": [
    "# Crop and further resize images\n",
    "\n",
    "BUFFER = 50\n",
    "DOWNSAMPLE_FACTOR = 2\n",
    "\n",
    "filenames = sorted(list((DATA_DIRNAME / 'forms').glob('*.jpg')))\n",
    "heights = []\n",
    "for regions in regions_by_name.values():\n",
    "    min_y1 = min(r['y1'] // DOWNSAMPLE_FACTOR for r in regions) - BUFFER // DOWNSAMPLE_FACTOR\n",
    "    max_y2 = max(r['y2'] // DOWNSAMPLE_FACTOR for r in regions) + BUFFER // DOWNSAMPLE_FACTOR\n",
    "    height = max_y2 - min_y1\n",
    "    heights.append(height)\n",
    "    \n",
    "max_width = 1240 // DOWNSAMPLE_FACTOR\n",
    "max_height = max(heights)\n",
    "print(f'Max dims are {max_width} width and {max_height} height')"
   ]
  },
  {
   "cell_type": "code",
   "execution_count": 18,
   "metadata": {},
   "outputs": [
    {
     "name": "stdout",
     "output_type": "stream",
     "text": [
      "Rescued e01-081: could not broadcast input array from shape (293,618) into shape (293,620)\n",
      "Rescued e01-086: could not broadcast input array from shape (344,618) into shape (344,620)\n"
     ]
    }
   ],
   "source": [
    "CROP_OUTPUT_DIRNAME = DATA_DIRNAME / 'forms_cropped'\n",
    "CROP_OUTPUT_DIRNAME.mkdir(exist_ok=True)\n",
    "DEBUG_OUTPUT_DIRNAME = DATA_DIRNAME / 'forms_cropped_debug'\n",
    "DEBUG_OUTPUT_DIRNAME.mkdir(exist_ok=True)\n",
    "\n",
    "def write_cropped_and_gt_image(name, regions_by_name, max_height, downsample_factor):\n",
    "    form_image = cv2.imread(str(DATA_DIRNAME / 'forms' / f'{name}.jpg'), cv2.IMREAD_GRAYSCALE)\n",
    "    form_image = cv2.resize(form_image, (0,0), fx=1/downsample_factor, fy=1/downsample_factor) \n",
    "    regions = regions_by_name[name]\n",
    "#     lines = lines_by_name[name]\n",
    "#     baselines = baselines_by_name[name]\n",
    "    \n",
    "    min_y1 = min(r['y1'] // downsample_factor for r in regions) - BUFFER // downsample_factor\n",
    "    max_y2 = max(r['y2'] // downsample_factor for r in regions) + BUFFER // downsample_factor\n",
    "    height = max_y2 - min_y1\n",
    "    buffer = (max_height - height) // 2\n",
    "    \n",
    "    # Crop image\n",
    "    form_image_crop = 255 * np.ones((max_height, max_width), dtype=np.uint8)\n",
    "    try:\n",
    "        form_image_crop[buffer:buffer + height] = form_image[min_y1:max_y2]\n",
    "    except Exception as e:\n",
    "        print(f'Rescued {name}: {e}')\n",
    "        return\n",
    "    cv2.imwrite(str(CROP_OUTPUT_DIRNAME / f'{name}.jpg'), form_image_crop)\n",
    "    \n",
    "#     # GT image\n",
    "    gt_image = np.zeros_like(form_image_crop, dtype=np.uint8)\n",
    "    for ind, region in enumerate(regions):\n",
    "        gt_image[\n",
    "            (region['y1'] // downsample_factor - min_y1 + buffer):(region['y2'] // downsample_factor - min_y1 + buffer),\n",
    "            region['x1'] // downsample_factor:region['x2'] // downsample_factor\n",
    "        ] = ind + 1\n",
    "    cv2.imwrite(str(GT_OUTPUT_DIRNAME / f'{name}.png'), gt_image)\n",
    "    \n",
    "    # Debug image\n",
    "    cmap = plt.get_cmap('Set1')\n",
    "    form_image_crop_3d = np.dstack([form_image_crop, form_image_crop, form_image_crop])\n",
    "    for ind, region in enumerate(regions):\n",
    "        color = [255 * _ for _ in cmap(ind)[:-1]]\n",
    "        cv2.rectangle(\n",
    "            form_image_crop_3d,\n",
    "            (region['x1'] // downsample_factor, region['y1'] // downsample_factor - min_y1 + buffer),\n",
    "            (region['x2'] // downsample_factor, region['y2'] // downsample_factor - min_y1 + buffer),\n",
    "            color,\n",
    "            3\n",
    "        )\n",
    "    cv2.imwrite(str(DEBUG_OUTPUT_DIRNAME / f'{name}.png'), form_image_crop_3d)\n",
    "    \n",
    "for filename in filenames:\n",
    "    write_cropped_and_gt_image(filename.stem, regions_by_name, max_height, DOWNSAMPLE_FACTOR)"
   ]
  }
 ],
 "metadata": {
  "kernelspec": {
   "display_name": "Python 3",
   "language": "python",
   "name": "python3"
  },
  "language_info": {
   "codemirror_mode": {
    "name": "ipython",
    "version": 3
   },
   "file_extension": ".py",
   "mimetype": "text/x-python",
   "name": "python",
   "nbconvert_exporter": "python",
   "pygments_lexer": "ipython3",
   "version": "3.6.7"
  }
 },
 "nbformat": 4,
 "nbformat_minor": 2
}
