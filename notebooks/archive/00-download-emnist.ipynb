{
 "cells": [
  {
   "cell_type": "code",
   "execution_count": 1,
   "metadata": {},
   "outputs": [
    {
     "name": "stdout",
     "output_type": "stream",
     "text": [
      "/Users/sergeyk/work/gradescope/full-stack-deep-learning/projects/text_recognizer/data/raw/emnist\n",
      "URL transformed to HTTPS due to an HSTS policy\n",
      "--2018-07-17 01:25:38--  https://www.itl.nist.gov/iaui/vip/cs_links/EMNIST/matlab.zip\n",
      "Resolving www.itl.nist.gov (www.itl.nist.gov)... 132.163.4.36\n",
      "Connecting to www.itl.nist.gov (www.itl.nist.gov)|132.163.4.36|:443... connected.\n",
      "HTTP request sent, awaiting response... 416 Requested Range Not Satisfiable\n",
      "\n",
      "    The file is already fully retrieved; nothing to do.\n",
      "\n"
     ]
    }
   ],
   "source": [
    "%mkdir -p ../data/raw/emnist\n",
    "%cd ../data/raw/emnist\n",
    "\n",
    "!wget -c http://www.itl.nist.gov/iaui/vip/cs_links/EMNIST/matlab.zip\n",
    "# !unzip -n matlab.zip"
   ]
  },
  {
   "cell_type": "code",
   "execution_count": 2,
   "metadata": {},
   "outputs": [
    {
     "data": {
      "text/plain": [
       "'/Users/sergeyk/work/gradescope/full-stack-deep-learning/projects/text_recognizer/data/raw/emnist/matlab/emnist-byclass.mat'"
      ]
     },
     "execution_count": 2,
     "metadata": {},
     "output_type": "execute_result"
    }
   ],
   "source": [
    "import zipfile\n",
    "zip_file = zipfile.ZipFile('matlab.zip', 'r')\n",
    "zip_file.extract('matlab/emnist-byclass.mat')"
   ]
  },
  {
   "cell_type": "code",
   "execution_count": 3,
   "metadata": {},
   "outputs": [
    {
     "data": {
      "text/plain": [
       "dtype([('train', 'O'), ('test', 'O'), ('mapping', 'O')])"
      ]
     },
     "execution_count": 3,
     "metadata": {},
     "output_type": "execute_result"
    }
   ],
   "source": [
    "from scipy.io import loadmat\n",
    "data = loadmat('matlab/emnist-byclass.mat')\n",
    "data['dataset'].dtype"
   ]
  },
  {
   "cell_type": "code",
   "execution_count": 4,
   "metadata": {},
   "outputs": [
    {
     "name": "stdout",
     "output_type": "stream",
     "text": [
      "Variable   Type        Data/Info\n",
      "--------------------------------\n",
      "data       dict        n=4\n",
      "loadmat    function    <function loadmat at 0x113980f28>\n",
      "mapping    dict        n=62\n",
      "x_test     ndarray     116323x784: 91197232 elems, type `uint8`, 91197232 bytes (86.97245788574219 Mb)\n",
      "x_train    ndarray     697932x784: 547178688 elems, type `uint8`, 547178688 bytes (521.8302612304688 Mb)\n",
      "y_test     ndarray     116323x1: 116323 elems, type `uint8`, 116323 bytes (113.5966796875 kb)\n",
      "y_train    ndarray     697932x1: 697932 elems, type `uint8`, 697932 bytes (681.57421875 kb)\n",
      "zip_file   ZipFile     <zipfile.ZipFile filename='matlab.zip' mode='r'>\n",
      "zipfile    module      <module 'zipfile' from '/<...>ib/python3.6/zipfile.py'>\n"
     ]
    }
   ],
   "source": [
    "x_train = data['dataset']['train'][0, 0]['images'][0, 0]\n",
    "y_train = data['dataset']['train'][0, 0]['labels'][0, 0]\n",
    "x_test = data['dataset']['test'][0, 0]['images'][0, 0]\n",
    "y_test = data['dataset']['test'][0, 0]['labels'][0, 0]\n",
    "mapping = {k: chr(v) for k, v in data['dataset']['mapping'][0, 0]}\n",
    "%whos"
   ]
  },
  {
   "cell_type": "code",
   "execution_count": 5,
   "metadata": {},
   "outputs": [
    {
     "name": "stdout",
     "output_type": "stream",
     "text": [
      "[  0   0   0   0   0   0   0   0   0   0   0   0   0   0   0   0   0   0\n",
      "   0   0   0   0   0   0   0   0   0   0   0   0   0   0   0   0   0   0\n",
      "   0   0   0   0   0   0   0   0   0   0   0   0   0   0   0   0   0   0\n",
      "   0   0   0   0   0   0   0   0   0   0   0   0   0   0   0   0   0   0\n",
      "   0   0   0   0   0   0   0   0   0   0   0   0   0   0   0   0   0   0\n",
      "   0   0   0   0   0   0   0   0   0   0   0   0   0   0   0   0   0   0\n",
      "   0   0   0   0   0   0   0   0   0   0   0   0   0   0   0   0   0   0\n",
      "   0   0   0   0   0   0  22  81 125  77   0   0   0   0   0   0   1  19\n",
      "   8   0   0   0   0   0   0   0   0   0   0   0   0   0   0  20 159 232\n",
      " 249 206  10   0   0   0   0   0  34 201 207  90   1   0   0   0   0   0\n",
      "   0   0   0   0   0   0  24 170 254 254 254 253 113   4   0   0   0   0\n",
      "  84 233] uint8\n",
      "[35] uint8\n"
     ]
    }
   ],
   "source": [
    "print(x_train[0, :200], x_train.dtype)\n",
    "print(y_train[0], y_train.dtype)"
   ]
  },
  {
   "cell_type": "code",
   "execution_count": 6,
   "metadata": {},
   "outputs": [
    {
     "data": {
      "image/png": "[encoded data removed]",
      "text/plain": [
       "<Figure size 432x288 with 8 Axes>"
      ]
     },
     "metadata": {},
     "output_type": "display_data"
    }
   ],
   "source": [
    "import matplotlib.pyplot as plt\n",
    "%matplotlib inline\n",
    "\n",
    "ind = 0\n",
    "fig, axes = plt.subplots(2, 4)\n",
    "\n",
    "for ind, ax in enumerate(axes.flatten()):\n",
    "    ax.imshow(x_train[ind].reshape(28, 28).T, cmap='gray')\n",
    "    ax.set_title(mapping[y_train[ind, 0]])"
   ]
  },
  {
   "cell_type": "code",
   "execution_count": 7,
   "metadata": {},
   "outputs": [],
   "source": [
    "import numpy as np\n",
    "np.savez('emnist-byclass.npz', x_train=x_train, y_train=y_train, x_test=x_test, y_test=y_test, mapping=mapping)"
   ]
  },
  {
   "cell_type": "code",
   "execution_count": 11,
   "metadata": {},
   "outputs": [
    {
     "name": "stdout",
     "output_type": "stream",
     "text": [
      "rm: matlab: No such file or directory\n",
      "rm: matlab.zip: No such file or directory\n"
     ]
    }
   ],
   "source": [
    "%rm -r matlab\n",
    "%rm matlab.zip"
   ]
  },
  {
   "cell_type": "code",
   "execution_count": null,
   "metadata": {},
   "outputs": [],
   "source": [
    "# The content of this notebook are going into text_recognizer/datasets/emnist.py"
   ]
  },
  {
   "cell_type": "code",
   "execution_count": 5,
   "metadata": {},
   "outputs": [],
   "source": [
    "import numpy as np\n",
    "data = np.load('../data/processed/emnist/byclass.npz')"
   ]
  },
  {
   "cell_type": "code",
   "execution_count": 10,
   "metadata": {},
   "outputs": [
    {
     "data": {
      "text/plain": [
       "array({0: '0', 1: '1', 2: '2', 3: '3', 4: '4', 5: '5', 6: '6', 7: '7', 8: '8', 9: '9', 10: 'A', 11: 'B', 12: 'C', 13: 'D', 14: 'E', 15: 'F', 16: 'G', 17: 'H', 18: 'I', 19: 'J', 20: 'K', 21: 'L', 22: 'M', 23: 'N', 24: 'O', 25: 'P', 26: 'Q', 27: 'R', 28: 'S', 29: 'T', 30: 'U', 31: 'V', 32: 'W', 33: 'X', 34: 'Y', 35: 'Z', 36: 'a', 37: 'b', 38: 'c', 39: 'd', 40: 'e', 41: 'f', 42: 'g', 43: 'h', 44: 'i', 45: 'j', 46: 'k', 47: 'l', 48: 'm', 49: 'n', 50: 'o', 51: 'p', 52: 'q', 53: 'r', 54: 's', 55: 't', 56: 'u', 57: 'v', 58: 'w', 59: 'x', 60: 'y', 61: 'z'},\n",
       "      dtype=object)"
      ]
     },
     "execution_count": 10,
     "metadata": {},
     "output_type": "execute_result"
    }
   ],
   "source": [
    "data['mapping']"
   ]
  },
  {
   "cell_type": "code",
   "execution_count": 4,
   "metadata": {},
   "outputs": [],
   "source": [
    "import sys\n",
    "sys.path.append('..')\n",
    "from text_recognizer.datasets.emnist import EmnistDataset\n",
    "\n",
    "dataset = EmnistDataset()"
   ]
  },
  {
   "cell_type": "code",
   "execution_count": 45,
   "metadata": {},
   "outputs": [
    {
     "data": {
      "text/plain": [
       "<matplotlib.image.AxesImage at 0x12c0d6fd0>"
      ]
     },
     "execution_count": 45,
     "metadata": {},
     "output_type": "execute_result"
    },
    {
     "data": {
      "image/png": "[encoded data removed]",
      "text/plain": [
       "<Figure size 288x288 with 1 Axes>"
      ]
     },
     "metadata": {},
     "output_type": "display_data"
    }
   ],
   "source": [
    "import matplotlib.pyplot as plt\n",
    "import numpy as np\n",
    "%matplotlib inline\n",
    "x_test_r = dataset.x_test.reshape(-1, 28, 28).swapaxes(1, 2)\n",
    "plt.matshow(x_test_r[5])"
   ]
  }
 ],
 "metadata": {
  "kernelspec": {
   "display_name": "Python 3",
   "language": "python",
   "name": "python3"
  },
  "language_info": {
   "codemirror_mode": {
    "name": "ipython",
    "version": 3
   },
   "file_extension": ".py",
   "mimetype": "text/x-python",
   "name": "python",
   "nbconvert_exporter": "python",
   "pygments_lexer": "ipython3",
   "version": "3.6.6"
  }
 },
 "nbformat": 4,
 "nbformat_minor": 2
}
