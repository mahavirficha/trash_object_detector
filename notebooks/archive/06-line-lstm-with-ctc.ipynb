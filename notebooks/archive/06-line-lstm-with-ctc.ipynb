{
 "cells": [
  {
   "cell_type": "markdown",
   "metadata": {},
   "source": [
    "# CTC\n",
    "\n",
    "- https://distill.pub/2017/ctc/\n",
    "- http://people.idsia.ch/~juergen/tpami_2008.pdf"
   ]
  },
  {
   "cell_type": "code",
   "execution_count": 95,
   "metadata": {},
   "outputs": [
    {
     "name": "stdout",
     "output_type": "stream",
     "text": [
      "The autoreload extension is already loaded. To reload it, use:\n",
      "  %reload_ext autoreload\n"
     ]
    }
   ],
   "source": [
    "import os\n",
    "os.environ[\"CUDA_VISIBLE_DEVICES\"] = '1'\n",
    "\n",
    "import numpy as np\n",
    "import tensorflow as tf\n",
    "from tensorflow.keras.layers import Activation, Bidirectional, Conv2D, Dropout, Flatten, SimpleRNN, MaxPooling2D, Input, Dense, Lambda, TimeDistributed, Reshape, CuDNNLSTM\n",
    "from tensorflow.keras.models import Model, Sequential\n",
    "from tensorflow.keras.utils import Sequence\n",
    "from tensorflow.keras.optimizers import SGD, RMSprop\n",
    "import tensorflow.keras.backend as K\n",
    "from tensorflow.keras.callbacks import TerminateOnNaN\n",
    "\n",
    "import sys\n",
    "sys.path.append('..')\n",
    "from text_recognizer.datasets.emnist_lines import EmnistLinesDataset\n",
    "from text_recognizer.models.line_rnn import LineLstm\n",
    "\n",
    "%load_ext autoreload\n",
    "%autoreload 2"
   ]
  },
  {
   "cell_type": "code",
   "execution_count": 43,
   "metadata": {},
   "outputs": [
    {
     "name": "stdout",
     "output_type": "stream",
     "text": [
      "EmnistLinesDataset loading data from HDF5...\n"
     ]
    }
   ],
   "source": [
    "dataset = EmnistLinesDataset(max_overlap=0.4)\n",
    "dataset.load_or_generate_data()"
   ]
  },
  {
   "cell_type": "code",
   "execution_count": 44,
   "metadata": {},
   "outputs": [],
   "source": [
    "class DatasetSequence(Sequence):\n",
    "    def __init__(self, x, y, batch_size, output_sequence_length):\n",
    "        self.x = x\n",
    "        self.y = y\n",
    "        self.batch_size = batch_size\n",
    "        self.output_sequence_length = output_sequence_length\n",
    "    \n",
    "    def __len__(self):\n",
    "        return int(np.ceil(len(self.x) / float(self.batch_size)))\n",
    "\n",
    "    def __getitem__(self, idx):\n",
    "        batch_x = np.take(self.x, range(idx * self.batch_size, (idx + 1) * self.batch_size), axis=0, mode='clip')\n",
    "        batch_y = np.take(self.y, range(idx * self.batch_size, (idx + 1) * self.batch_size), axis=0, mode='clip')\n",
    "        \n",
    "#         batch_y = np.dstack((\n",
    "#             batch_y,\n",
    "#             np.zeros((batch_y.shape[0], batch_y.shape[1]))\n",
    "#         ))\n",
    "        \n",
    "        batch_inputs = {\n",
    "            'image': batch_x,\n",
    "            'y_true': np.argmax(batch_y, -1),\n",
    "            'input_length': np.ones((self.batch_size, 1)) * self.output_sequence_length,\n",
    "            'label_length': np.array([np.where(batch_y[ind, :, -1] == 1)[0][0] for ind in range(self.batch_size)])\n",
    "        }\n",
    "#         batch_outputs = {\n",
    "#             'categorical_crossentropy_loss_output': batch_y,\n",
    "#             'ctc_loss_output': batch_y,\n",
    "#             'acc_output': np.argmax(batch_y, -1)\n",
    "#         }\n",
    "        return batch_inputs, batch_y"
   ]
  },
  {
   "cell_type": "code",
   "execution_count": 202,
   "metadata": {},
   "outputs": [
    {
     "name": "stdout",
     "output_type": "stream",
     "text": [
      "__________________________________________________________________________________________________\n",
      "Layer (type)                    Output Shape         Param #     Connected to                     \n",
      "==================================================================================================\n",
      "image (InputLayer)              (None, 28, 896)      0                                            \n",
      "__________________________________________________________________________________________________\n",
      "reshape_71 (Reshape)            (None, 28, 896, 1)   0           image[0][0]                      \n",
      "__________________________________________________________________________________________________\n",
      "lambda_71 (Lambda)              (None, 64, 28, 14, 1 0           reshape_71[0][0]                 \n",
      "__________________________________________________________________________________________________\n",
      "time_distributed_62 (TimeDistri (None, 64, 128)      510464      lambda_71[0][0]                  \n",
      "__________________________________________________________________________________________________\n",
      "cu_dnnlstm_60 (CuDNNLSTM)       (None, 64, 128)      132096      time_distributed_62[0][0]        \n",
      "__________________________________________________________________________________________________\n",
      "y_true (InputLayer)             (None, 32)           0                                            \n",
      "__________________________________________________________________________________________________\n",
      "softmax (TimeDistributed)       (None, 64, 65)       8385        cu_dnnlstm_60[0][0]              \n",
      "__________________________________________________________________________________________________\n",
      "input_length (InputLayer)       (None, 1)            0                                            \n",
      "__________________________________________________________________________________________________\n",
      "label_length (InputLayer)       (None, 1)            0                                            \n",
      "__________________________________________________________________________________________________\n",
      "ctc_loss (Lambda)               (None, 1)            0           y_true[0][0]                     \n",
      "                                                                 softmax[0][0]                    \n",
      "                                                                 input_length[0][0]               \n",
      "                                                                 label_length[0][0]               \n",
      "__________________________________________________________________________________________________\n",
      "ctc_decoded (Lambda)            (None, None)         0           softmax[0][0]                    \n",
      "                                                                 input_length[0][0]               \n",
      "==================================================================================================\n",
      "Total params: 650,945\n",
      "Trainable params: 650,945\n",
      "Non-trainable params: 0\n",
      "__________________________________________________________________________________________________\n",
      "WARNING:tensorflow:Output \"ctc_decoded\" missing from loss dictionary. We assume this was done on purpose, and we will not be expecting any data to be passed to \"ctc_decoded\" during training.\n",
      "Epoch 1/1\n",
      "625/625 [==============================] - 21s 33ms/step - loss: 34.4560 - ctc_loss_loss: 34.4560\n"
     ]
    }
   ],
   "source": [
    "## ADDING EDITDISTANCE\n",
    "\n",
    "model = LineLstm()\n",
    "\n",
    "def lenet(image_height: int, image_width: int) -> Model:\n",
    "    model = Sequential()\n",
    "    model.add(Conv2D(32, kernel_size=(3, 3), activation='relu', input_shape=(image_height, image_width, 1)))\n",
    "    model.add(Conv2D(64, (3, 3), activation='relu'))\n",
    "    model.add(MaxPooling2D(pool_size=(2, 2)))\n",
    "    model.add(Dropout(0.25))\n",
    "    model.add(Flatten())\n",
    "    model.add(Dense(128, activation='relu'))\n",
    "    return model\n",
    "\n",
    "\n",
    "class DatasetSequence(Sequence):\n",
    "    def __init__(self, x, y, batch_size, output_sequence_length):\n",
    "        self.x = x\n",
    "        self.y = y\n",
    "        self.batch_size = batch_size\n",
    "        self.output_sequence_length = output_sequence_length\n",
    "    \n",
    "    def __len__(self):\n",
    "        return int(np.ceil(len(self.x) / float(self.batch_size)))\n",
    "\n",
    "    def __getitem__(self, idx):\n",
    "        batch_x = np.take(self.x, range(idx * self.batch_size, (idx + 1) * self.batch_size), axis=0, mode='clip')\n",
    "        batch_y = np.take(self.y, range(idx * self.batch_size, (idx + 1) * self.batch_size), axis=0, mode='clip')\n",
    "        y_true = np.argmax(batch_y, -1)\n",
    "        batch_inputs = {\n",
    "            'image': batch_x,\n",
    "            'y_true': y_true,\n",
    "            'input_length': np.ones((self.batch_size, 1)) * self.output_sequence_length,\n",
    "            'label_length': np.array([np.where(batch_y[ind, :, -1] == 1)[0][0] for ind in range(self.batch_size)])\n",
    "        }\n",
    "        batch_outputs = {\n",
    "            'ctc_loss': np.zeros(batch_y.shape[0]),  # dummy\n",
    "            'ctc_decoded': y_true\n",
    "        }\n",
    "        return batch_inputs, batch_outputs\n",
    "\n",
    "\n",
    "from tensorflow.python.ops import ctc_ops\n",
    "\n",
    "def ctc_decode(y_pred, input_length):\n",
    "    \"\"\"\n",
    "    Cut down from https://github.com/keras-team/keras/blob/master/keras/backend/tensorflow_backend.py#L4170\n",
    "    \n",
    "    Decodes the output of a softmax.\n",
    "    Uses greedy (best path) search.\n",
    "\n",
    "    # Arguments\n",
    "        y_pred: tensor `(samples, time_steps, num_categories)`\n",
    "            containing the prediction, or output of the softmax.\n",
    "        input_length: tensor `(samples, )` containing the sequence length for\n",
    "            each batch item in `y_pred`.\n",
    "\n",
    "    # Returns\n",
    "        List: list of one element that contains the decoded sequence.\n",
    "    \"\"\"\n",
    "    y_pred = tf.log(tf.transpose(y_pred, perm=[1, 0, 2]) + K.epsilon())\n",
    "    input_length = tf.to_int32((tf.squeeze(input_length, axis=-1)))\n",
    "    \n",
    "    (decoded, _) = ctc_ops.ctc_greedy_decoder(inputs=y_pred, sequence_length=input_length)\n",
    "    \n",
    "    st = decoded[0]\n",
    "    decoded_dense = tf.sparse_to_dense(st.indices, st.dense_shape, st.values, default_value=-1)\n",
    "    \n",
    "    # Unfortunately, decoded_dense will be of different number of columns, depending on the decodings.\n",
    "    # We need to get it all in one standard shape, so let's pad if necessary.\n",
    "    max_length = 32 + 2  # giving 2 extra characters for leeway\n",
    "    cols = tf.shape(decoded_dense)[-1]\n",
    "    def f1(): return tf.pad(decoded_dense, [[0, 0], [0, max_length - cols]], constant_values=-1)\n",
    "    def f2(): return decoded_dense\n",
    "    return tf.cond(tf.less(cols, max_length), f1, f2)\n",
    "\n",
    "\n",
    "def create_sliding_window_rnn_model(input_shape, max_length, num_classes, window_width, window_stride):\n",
    "    def slide_window(image, window_width=window_width, window_stride=window_stride):\n",
    "        kernel = [1, 1, window_width, 1]\n",
    "        strides = [1, 1, window_stride, 1]\n",
    "        patches = tf.extract_image_patches(image, kernel, strides, [1, 1, 1, 1], 'SAME')\n",
    "        patches = tf.transpose(patches, (0, 2, 1, 3))\n",
    "        patches = tf.expand_dims(patches, -1)\n",
    "        return patches\n",
    "    \n",
    "    image_height, image_width = input_shape    \n",
    "    image_input = Input(shape=input_shape, name='image')\n",
    "    y_true = Input(shape=(max_length,), name='y_true')\n",
    "    input_length = Input(shape=(1,), name='input_length')\n",
    "    label_length = Input(shape=(1,), name='label_length')\n",
    "    \n",
    "    image_reshaped = Reshape((image_height, image_width, 1))(image_input)\n",
    "    image_patches = Lambda(slide_window)(image_reshaped)  # (num_windows, image_height, window_width, 1)\n",
    "    convnet = lenet(image_height, window_width)\n",
    "    convnet_outputs = TimeDistributed(convnet)(image_patches)  # (num_windows, 128)\n",
    "    \n",
    "    rnn_output = CuDNNLSTM(128, return_sequences=True)(convnet_outputs) # (sequence_length, 128)\n",
    "    softmaxed_outputs = TimeDistributed(Dense(num_classes, activation='softmax'), name='softmax')(rnn_output) # (sequence_length, 128)\n",
    "    \n",
    "    ctc_loss_output = Lambda(\n",
    "        lambda x: K.ctc_batch_cost(x[0], x[1], x[2], x[3]),\n",
    "        name='ctc_loss'\n",
    "    )([y_true, softmaxed_outputs, input_length, label_length])\n",
    "    \n",
    "    ctc_decoded_output = Lambda(\n",
    "        lambda x: ctc_decode(x[0], x[1]),\n",
    "        name='ctc_decoded'\n",
    "    )([softmaxed_outputs, input_length])\n",
    "    \n",
    "    model = Model(inputs=[image_input, y_true, input_length, label_length], outputs=[ctc_loss_output, ctc_decoded_output])\n",
    "    model.summary()\n",
    "    return model\n",
    "\n",
    "\n",
    "dataset_sequence = DatasetSequence(\n",
    "    dataset.x_train,\n",
    "    dataset.y_train,\n",
    "    batch_size=16,\n",
    "    output_sequence_length=32 * 2\n",
    ")\n",
    "\n",
    "\n",
    "keras_model = create_sliding_window_rnn_model(\n",
    "    model.input_shape,\n",
    "    model.max_length,\n",
    "    model.num_classes,\n",
    "    28 // 2,\n",
    "    28 // 2\n",
    ")\n",
    "\n",
    "\n",
    "keras_model.compile(\n",
    "    'rmsprop',\n",
    "    loss={'ctc_loss': lambda yt, yp: yp}\n",
    ")\n",
    "\n",
    "history = keras_model.fit_generator(dataset_sequence, epochs=1)"
   ]
  },
  {
   "cell_type": "code",
   "execution_count": 204,
   "metadata": {},
   "outputs": [],
   "source": [
    "decoding_model = Model(inputs=keras_model.input, outputs=keras_model.get_layer('ctc_decoded').output)\n",
    "preds = decoding_model.predict_generator(dataset_sequence)"
   ]
  },
  {
   "cell_type": "code",
   "execution_count": 224,
   "metadata": {},
   "outputs": [
    {
     "name": "stdout",
     "output_type": "stream",
     "text": [
      "0.7030521443293611\n"
     ]
    }
   ],
   "source": [
    "pred_strings = [''.join(dataset.mapping.get(label, '') for label in pred).strip() for pred in preds]\n",
    "true_strings = [''.join(dataset.mapping.get(label, '') for label in true).strip() for true in y_true]\n",
    "char_accuracies = [\n",
    "    1 - editdistance.eval(true_string, pred_string) / len(pred_string)\n",
    "    for true_string, pred_string in zip(pred_strings, true_strings)\n",
    "]\n",
    "print(np.mean(char_accuracies))"
   ]
  },
  {
   "cell_type": "code",
   "execution_count": 47,
   "metadata": {},
   "outputs": [
    {
     "name": "stdout",
     "output_type": "stream",
     "text": [
      "(1, 64, 65)\n",
      "carry big sticks over laos\n"
     ]
    },
    {
     "data": {
      "text/plain": [
       "<matplotlib.image.AxesImage at 0x7f4d9b90bfd0>"
      ]
     },
     "execution_count": 47,
     "metadata": {},
     "output_type": "execute_result"
    },
    {
     "data": {
      "image/png": "[encoded data removed]",
      "text/plain": [
       "<Figure size 1152x144 with 1 Axes>"
      ]
     },
     "metadata": {},
     "output_type": "display_data"
    }
   ],
   "source": [
    "softmax_output_fn = K.function(\n",
    "    [keras_model.get_layer('image').input, K.learning_phase()],\n",
    "    [keras_model.get_layer('softmax').output]\n",
    ")\n",
    "input_image = np.expand_dims(dataset.x_test[0], 0)\n",
    "softmax_output = softmax_output_fn([input_image, 0])[0]\n",
    "print(softmax_output.shape)\n",
    "pred_raw = K.eval(K.ctc_decode(softmax_output, np.array([64]))[0][0])\n",
    "print(\n",
    "\n",
    "import matplotlib.pyplot as plt\n",
    "%matplotlib inline\n",
    "plt.matshow(dataset.x_test[0])"
   ]
  },
  {
   "cell_type": "code",
   "execution_count": 74,
   "metadata": {},
   "outputs": [
    {
     "data": {
      "text/plain": [
       "0.9470386578159365"
      ]
     },
     "execution_count": 74,
     "metadata": {},
     "output_type": "execute_result"
    }
   ],
   "source": [
    "neg_sum_logit = K.eval(K.ctc_decode(softmax_output, np.array([64]))[1])[0][0]\n",
    "np.exp(neg_sum_logit) / (1 + np.exp(neg_sum_logit))"
   ]
  },
  {
   "cell_type": "code",
   "execution_count": 94,
   "metadata": {},
   "outputs": [
    {
     "name": "stdout",
     "output_type": "stream",
     "text": [
      "carry big sticks over laos 1.0\n"
     ]
    }
   ],
   "source": [
    "decoded, log_prob = K.ctc_decode(softmax_output, np.array([64]))\n",
    "pred_raw = K.eval(decoded[0])[0]\n",
    "pred = ''.join(dataset.mapping[label] for label in pred_raw).strip()\n",
    "conf = K.eval(K.softmax(log_prob))[0][0]\n",
    "print(pred, conf)"
   ]
  }
 ],
 "metadata": {
  "kernelspec": {
   "display_name": "Python 3",
   "language": "python",
   "name": "python3"
  },
  "language_info": {
   "codemirror_mode": {
    "name": "ipython",
    "version": 3
   },
   "file_extension": ".py",
   "mimetype": "text/x-python",
   "name": "python",
   "nbconvert_exporter": "python",
   "pygments_lexer": "ipython3",
   "version": "3.6.6"
  }
 },
 "nbformat": 4,
 "nbformat_minor": 2
}
